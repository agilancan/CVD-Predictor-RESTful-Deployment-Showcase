{
 "cells": [
  {
   "cell_type": "code",
   "execution_count": 106,
   "metadata": {},
   "outputs": [],
   "source": [
    "import requests\n",
    "import json"
   ]
  },
  {
   "cell_type": "code",
   "execution_count": 107,
   "metadata": {},
   "outputs": [],
   "source": [
    "# Sample API request"
   ]
  },
  {
   "cell_type": "code",
   "execution_count": 108,
   "metadata": {},
   "outputs": [],
   "source": [
    "sampleResponse = requests.get(\"http://127.0.0.1:5000/coronary_heart_disease/sample\")"
   ]
  },
  {
   "cell_type": "code",
   "execution_count": 109,
   "metadata": {},
   "outputs": [],
   "source": [
    "def jprint(obj):\n",
    "    text = json.dumps(obj, sort_keys=False, indent=4)\n",
    "    print(text)"
   ]
  },
  {
   "cell_type": "code",
   "execution_count": 110,
   "metadata": {},
   "outputs": [
    {
     "name": "stdout",
     "output_type": "stream",
     "text": [
      "{\n",
      "    \"BMI\": 25.0,\n",
      "    \"BPMeds\": 0.0,\n",
      "    \"age\": 48,\n",
      "    \"cigsPerDay\": 10.0,\n",
      "    \"currentSmoker\": 0,\n",
      "    \"diaBP\": 82.0,\n",
      "    \"diabetes\": 0,\n",
      "    \"education\": 0,\n",
      "    \"glucose\": 80.0,\n",
      "    \"heartRate\": 70.0,\n",
      "    \"male\": 1,\n",
      "    \"prevalentHyp\": 0,\n",
      "    \"prevalentStroke\": 0,\n",
      "    \"sysBP\": 107.0,\n",
      "    \"totChol\": 230.0\n",
      "}\n"
     ]
    }
   ],
   "source": [
    "jprint(sampleResponse.json())"
   ]
  },
  {
   "cell_type": "code",
   "execution_count": 111,
   "metadata": {},
   "outputs": [],
   "source": [
    "# Explain API request"
   ]
  },
  {
   "cell_type": "code",
   "execution_count": 112,
   "metadata": {},
   "outputs": [],
   "source": [
    "explainResponse = requests.get(\"http://127.0.0.1:5000/coronary_heart_disease/explain\")"
   ]
  },
  {
   "cell_type": "code",
   "execution_count": 113,
   "metadata": {},
   "outputs": [
    {
     "name": "stdout",
     "output_type": "stream",
     "text": [
      "{\n",
      "    \"BMI\": \"Body mass index, calculated based on height and weight.\",\n",
      "    \"BPMeds\": \"1 if the person is taking blood pressure medication, 0 if not.\",\n",
      "    \"age\": \"The age of the person. Please provide the person's age as an integer.\",\n",
      "    \"cigsPerDay\": \"Number of cigarettes smoked per day. Provide the number as a float.\",\n",
      "    \"currentSmoker\": \"1 if the person is currently a smoker, 0 if not.\",\n",
      "    \"diaBP\": \"Diastolic blood pressure (the bottom number in a blood pressure reading).\",\n",
      "    \"diabetes\": \"1 if the person has diabetes, 0 if not.\",\n",
      "    \"education\": \"Represents the level of education. 0 = no education, 1 = some education, 2 = higher education.\",\n",
      "    \"glucose\": \"The person's glucose level in the blood.\",\n",
      "    \"heartRate\": \"The person's heart rate in beats per minute.\",\n",
      "    \"male\": \"Represents gender. 1 for male, 0 for female.\",\n",
      "    \"prevalentHyp\": \"1 if the person has high blood pressure, 0 if not.\",\n",
      "    \"prevalentStroke\": \"1 if the person had a stroke in the past, 0 if not.\",\n",
      "    \"sysBP\": \"Systolic blood pressure (the top number in a blood pressure reading).\",\n",
      "    \"target\": \"The final output of 0 or 1 representing the risk level for coronary heart disease. '1' means the person is at high risk, '0' means the person is at low risk.\",\n",
      "    \"totChol\": \"The person's total cholesterol level. Provide as a float.\"\n",
      "}\n"
     ]
    }
   ],
   "source": [
    "def jprint(obj):\n",
    "    text = json.dumps(obj, sort_keys=False, indent=4)\n",
    "    print(text)\n",
    "\n",
    "jprint(explainResponse.json())"
   ]
  },
  {
   "cell_type": "code",
   "execution_count": 114,
   "metadata": {},
   "outputs": [],
   "source": [
    "# Evaluate API request"
   ]
  },
  {
   "cell_type": "code",
   "execution_count": 115,
   "metadata": {},
   "outputs": [],
   "source": [
    "newPatient1 = {\n",
    "        \"male\": 1,\n",
    "        \"age\": 28,\n",
    "        \"education\": 0,\n",
    "        \"currentSmoker\": 0,\n",
    "        \"cigsPerDay\": 0.0,\n",
    "        \"BPMeds\": 0.0,\n",
    "        \"prevalentStroke\": 0,\n",
    "        \"prevalentHyp\": 0,\n",
    "        \"diabetes\": 0,\n",
    "        \"totChol\": 230.0,\n",
    "        \"sysBP\": 107.0,\n",
    "        \"diaBP\": 82.0,    \n",
    "        \"BMI\": 25.0,\n",
    "        \"heartRate\": 70.0,\n",
    "        \"glucose\": 80.0\n",
    "    }\n",
    "\n",
    "newPatient2 = {\n",
    "        \"male\": 0,\n",
    "        \"age\": 52,\n",
    "        \"education\": 1,\n",
    "        \"currentSmoker\": 1,\n",
    "        \"cigsPerDay\": 32.0,\n",
    "        \"BPMeds\": 0.0,\n",
    "        \"prevalentStroke\": 0,\n",
    "        \"prevalentHyp\": 1,\n",
    "        \"diabetes\": 0,\n",
    "        \"totChol\": 230.0,\n",
    "        \"sysBP\": 107.0,\n",
    "        \"diaBP\": 82.0,    \n",
    "        \"BMI\": 25.0,\n",
    "        \"heartRate\": 68.0,\n",
    "        \"glucose\": 104.0\n",
    "    }\n",
    "\n",
    "newPatient3 = {\n",
    "        \"male\": 1,\n",
    "        \"age\": 78,\n",
    "        \"education\": 2,\n",
    "        \"currentSmoker\": 1,\n",
    "        \"cigsPerDay\": 27.0,\n",
    "        \"BPMeds\": 0.0,\n",
    "        \"prevalentStroke\": 0,\n",
    "        \"prevalentHyp\": 1,\n",
    "        \"diabetes\": 0,\n",
    "        \"totChol\": 230.0,\n",
    "        \"sysBP\": 107.0,\n",
    "        \"diaBP\": 82.0,    \n",
    "        \"BMI\": 25.0,\n",
    "        \"heartRate\": 72.0,\n",
    "        \"glucose\": 98.0\n",
    "    }\n",
    "\n",
    "newPatient4 = {\n",
    "        \"male\": 0,\n",
    "        \"age\": 62,\n",
    "        \"education\": 3,\n",
    "        \"currentSmoker\": 0,\n",
    "        \"cigsPerDay\": 0.0,\n",
    "        \"BPMeds\": 0.0,\n",
    "        \"prevalentStroke\": 0,\n",
    "        \"prevalentHyp\": 0,\n",
    "        \"diabetes\": 0,\n",
    "        \"totChol\": 230.0,\n",
    "        \"sysBP\": 107.0,\n",
    "        \"diaBP\": 82.0,    \n",
    "        \"BMI\": 25.0,\n",
    "        \"heartRate\": 65.0,\n",
    "        \"glucose\": 80.0\n",
    "    }\n",
    "\n",
    "newPatient5 = {\n",
    "        \"male\": 1,\n",
    "        \"age\": 29,\n",
    "        \"education\": 4,\n",
    "        \"currentSmoker\": 1,\n",
    "        \"cigsPerDay\": 35.0,\n",
    "        \"BPMeds\": 0.0,\n",
    "        \"prevalentStroke\": 1,\n",
    "        \"prevalentHyp\": 0,\n",
    "        \"diabetes\": 0,\n",
    "        \"totChol\": 230.0,\n",
    "        \"sysBP\": 107.0,\n",
    "        \"diaBP\": 82.0,    \n",
    "        \"BMI\": 25.0,\n",
    "        \"heartRate\": 60.0,\n",
    "        \"glucose\": 107.0\n",
    "    }"
   ]
  },
  {
   "cell_type": "code",
   "execution_count": 116,
   "metadata": {},
   "outputs": [
    {
     "name": "stdout",
     "output_type": "stream",
     "text": [
      "0\n",
      "0\n",
      "1\n",
      "0\n",
      "0\n"
     ]
    }
   ],
   "source": [
    "response1 = requests.post(\"http://127.0.0.1:5000/coronary_heart_disease/evaluate\", json = newPatient1)\n",
    "response2 = requests.post(\"http://127.0.0.1:5000/coronary_heart_disease/evaluate\", json = newPatient2)\n",
    "response3 = requests.post(\"http://127.0.0.1:5000/coronary_heart_disease/evaluate\", json = newPatient3)\n",
    "response4 = requests.post(\"http://127.0.0.1:5000/coronary_heart_disease/evaluate\", json = newPatient4)\n",
    "response5 = requests.post(\"http://127.0.0.1:5000/coronary_heart_disease/evaluate\", json = newPatient5)\n",
    "\n",
    "jprint(response1.json())\n",
    "jprint(response2.json())\n",
    "jprint(response3.json())\n",
    "jprint(response4.json())\n",
    "jprint(response5.json())"
   ]
  }
 ],
 "metadata": {
  "kernelspec": {
   "display_name": "Assignment_3",
   "language": "python",
   "name": "python3"
  },
  "language_info": {
   "codemirror_mode": {
    "name": "ipython",
    "version": 3
   },
   "file_extension": ".py",
   "mimetype": "text/x-python",
   "name": "python",
   "nbconvert_exporter": "python",
   "pygments_lexer": "ipython3",
   "version": "3.12.7"
  }
 },
 "nbformat": 4,
 "nbformat_minor": 2
}
